{
 "cells": [
  {
   "cell_type": "markdown",
   "id": "40698d0e",
   "metadata": {},
   "source": [
    "# Scrape data regarding properties for sale in Dublin area listed on daft.ie"
   ]
  },
  {
   "cell_type": "markdown",
   "id": "c0f41a6a",
   "metadata": {},
   "source": [
    "The search result for property for provide lists of houses, apartments, etc. for sale in Dublin City, with could be gathered and stored for easy access and analyse.\n",
    "This project main purpose is to analyse the web structure of daft.ie and retrieve useful data of properties for sale and there prices."
   ]
  },
  {
   "cell_type": "markdown",
   "id": "82f15c30",
   "metadata": {},
   "source": [
    "## Analyse the web structure and function testing"
   ]
  },
  {
   "cell_type": "markdown",
   "id": "bb90c63b",
   "metadata": {},
   "source": [
    "The website daft.ie presents all there listing of properties for sale in Dublin area in the link https://www.daft.ie/property-for-sale/dublin-city. The first aproach is to determine how many results are there to retrieve and loop through all the pages available from the result. Further investigations show that all search results are store in a unorder lists, with each list item contains most of the information needed to generally describe the properties (address, price, number of rooms (beds, baths), floor area, etc.). So, the first step is to get all the item in the list that contain the search results."
   ]
  },
  {
   "cell_type": "markdown",
   "id": "a274031c",
   "metadata": {},
   "source": [
    "### *First, we retrieve all the list items from the search result*"
   ]
  },
  {
   "cell_type": "code",
   "execution_count": 1,
   "id": "8ea73b2c",
   "metadata": {},
   "outputs": [],
   "source": [
    "import requests\n",
    "from bs4 import BeautifulSoup\n",
    "import re\n",
    "\n",
    "base_url = \"https://www.daft.ie/property-for-sale/dublin-city\"\n",
    "\n",
    "property_features = []\n",
    "response = requests.get(base_url)\n",
    "\n",
    "if response.status_code == 200:\n",
    "    soup = BeautifulSoup(response.content, \"html.parser\")\n",
    "    # get the number of search results available for scraping, remove letter and comma\n",
    "    result_anouncement = soup.find(\"h1\",attrs={\"data-testid\": \"search-h1\"}).text\n",
    "    number_of_result = re.findall(r'\\d+(?:,\\d{3})*(?:\\.\\d+)?', result_anouncement)[0]\n",
    "    number_of_result = int(number_of_result.replace(\",\",\"\"))\n",
    "    counter = 0\n",
    "    \n",
    "    while counter<=number_of_result:\n",
    "        # get all the search results (unorder list item) 20 items at a time, until none left\n",
    "        response = requests.get(base_url+\"?from={}\".format(counter))\n",
    "        if response.status_code == 200:\n",
    "            soup = BeautifulSoup(response.content,\"html.parser\")\n",
    "            # get all list items with attribute data-testid contains 'result'\n",
    "            property_features += soup.find_all(\"li\", attrs={\"data-testid\": lambda value: value and \"result\" in value})\n",
    "        \n",
    "        counter+=20\n",
    "else:\n",
    "    print(\"Error\")"
   ]
  },
  {
   "cell_type": "markdown",
   "id": "6677cd86",
   "metadata": {},
   "source": [
    "* Now, we have all the properties (or more specific, their containers) in a list, however, there are a few exceptions. These exceptions' containers have a different structure to the rest, they also list newly built properties, with their price hidden to the public, and there are only a few of them. So, for this project, these properties will be dropped from the dataset"
   ]
  },
  {
   "cell_type": "code",
   "execution_count": 2,
   "id": "e7e469d6",
   "metadata": {},
   "outputs": [
    {
     "name": "stdout",
     "output_type": "stream",
     "text": [
      "The number of search results: 2640\n",
      "The number of exceptions that will be dropped from the dataset: 25\n",
      "The number of usable results: 2615\n"
     ]
    }
   ],
   "source": [
    "non_subunit_containers=[a for a in property_features if a.find(attrs={'data-testid':'sub-units-container'}) is None]\n",
    "\n",
    "print('The number of search results: {}'.format(len(property_features)))\n",
    "print('The number of exceptions that will be dropped from the dataset: {}'.format(len(property_features)-len(non_subunit_containers)))\n",
    "print('The number of usable results: {}'.format(len(non_subunit_containers)))"
   ]
  },
  {
   "cell_type": "markdown",
   "id": "2c1f46e6",
   "metadata": {},
   "source": [
    "*As we can see, there are only a very little number of exceptional results.*"
   ]
  },
  {
   "cell_type": "markdown",
   "id": "26bafe64",
   "metadata": {},
   "source": [
    "### *Now, we test the functions for extracting the targets data from the list items, using the fist item of the list of items that had been retrieved*"
   ]
  },
  {
   "cell_type": "markdown",
   "id": "b93e3947",
   "metadata": {},
   "source": [
    "* **Get the link to the property page**"
   ]
  },
  {
   "cell_type": "code",
   "execution_count": 3,
   "id": "f208d40b",
   "metadata": {},
   "outputs": [
    {
     "data": {
      "text/plain": [
       "'/for-sale/apartment-34-ballintyre-meadows-ballinteer-ballinteer-dublin-16/5286712'"
      ]
     },
     "execution_count": 3,
     "metadata": {},
     "output_type": "execute_result"
    }
   ],
   "source": [
    "non_subunit_containers[0].a.get('href')"
   ]
  },
  {
   "cell_type": "code",
   "execution_count": 4,
   "id": "363e7a1b",
   "metadata": {},
   "outputs": [],
   "source": [
    "# list of all the property links\n",
    "links = [li.a.get('href') for li in non_subunit_containers]"
   ]
  },
  {
   "cell_type": "code",
   "execution_count": 5,
   "id": "e62c9774",
   "metadata": {},
   "outputs": [
    {
     "name": "stdout",
     "output_type": "stream",
     "text": [
      "Number of links available: 2615\n"
     ]
    }
   ],
   "source": [
    "print('Number of links available: {}'.format(len(links)))"
   ]
  },
  {
   "cell_type": "markdown",
   "id": "3d1a1291",
   "metadata": {},
   "source": [
    "* **Get the physical address of the property**"
   ]
  },
  {
   "cell_type": "code",
   "execution_count": 6,
   "id": "5139f1f2",
   "metadata": {},
   "outputs": [
    {
     "data": {
      "text/plain": [
       "'34 Ballintyre Meadows, Ballinteer, Ballinteer, Dublin 16, D16VK61'"
      ]
     },
     "execution_count": 6,
     "metadata": {},
     "output_type": "execute_result"
    }
   ],
   "source": [
    "non_subunit_containers[0].find(attrs={\"data-testid\": 'address'}).text"
   ]
  },
  {
   "cell_type": "code",
   "execution_count": 7,
   "id": "d12da3aa",
   "metadata": {},
   "outputs": [],
   "source": [
    "physical_addresses = [li.find(attrs={\"data-testid\": 'address'}).text for li in non_subunit_containers]"
   ]
  },
  {
   "cell_type": "code",
   "execution_count": 8,
   "id": "bed82ad0",
   "metadata": {},
   "outputs": [
    {
     "name": "stdout",
     "output_type": "stream",
     "text": [
      "Number of addresses available: 2615\n"
     ]
    }
   ],
   "source": [
    "print('Number of addresses available: {}'.format(len(physical_addresses)))"
   ]
  },
  {
   "cell_type": "markdown",
   "id": "880cc595",
   "metadata": {},
   "source": [
    "* **Get the price of the property, remove any monetary symbols and puntuation marks**"
   ]
  },
  {
   "cell_type": "code",
   "execution_count": 9,
   "id": "ccf4d63e",
   "metadata": {
    "scrolled": true
   },
   "outputs": [
    {
     "data": {
      "text/plain": [
       "'€385,000 4 ONLINE OFFERS'"
      ]
     },
     "execution_count": 9,
     "metadata": {},
     "output_type": "execute_result"
    }
   ],
   "source": [
    "property_features[0].find(attrs={\"data-testid\":'price'}).text"
   ]
  },
  {
   "cell_type": "markdown",
   "id": "06b32eb3",
   "metadata": {},
   "source": [
    "*As we can see, the prices is not a numarical value which can be use for analysis; so, further steps need to be done to clean and convert the prices to numarical values*"
   ]
  },
  {
   "cell_type": "code",
   "execution_count": 10,
   "id": "ad8fec89",
   "metadata": {},
   "outputs": [
    {
     "data": {
      "text/plain": [
       "385000"
      ]
     },
     "execution_count": 10,
     "metadata": {},
     "output_type": "execute_result"
    }
   ],
   "source": [
    "int(property_features[0].find(attrs={\"data-testid\":'price'}).text.split()[0].replace(\"€\", \"\").replace(\",\", \"\"))"
   ]
  },
  {
   "cell_type": "code",
   "execution_count": 11,
   "id": "80c578f5",
   "metadata": {},
   "outputs": [],
   "source": [
    "price = []\n",
    "for li in non_subunit_containers:\n",
    "    try:\n",
    "\t    temp_price = int(li.find(attrs={\"data-testid\":'price'}).text.split()[0].replace(\"€\", \"\").replace(\",\", \"\"))\n",
    "    except:\n",
    "        temp_price = None\n",
    "    price.append(temp_price)"
   ]
  },
  {
   "cell_type": "code",
   "execution_count": 12,
   "id": "2d36d49a",
   "metadata": {
    "scrolled": false
   },
   "outputs": [
    {
     "name": "stdout",
     "output_type": "stream",
     "text": [
      "Number of prices available: 2615\n"
     ]
    }
   ],
   "source": [
    "print('Number of prices available: {}'.format(len(price)))"
   ]
  },
  {
   "cell_type": "markdown",
   "id": "b6782cb3",
   "metadata": {},
   "source": [
    "* **Get the number of beds, baths, and types of properties**"
   ]
  },
  {
   "cell_type": "code",
   "execution_count": 13,
   "id": "19109027",
   "metadata": {},
   "outputs": [],
   "source": [
    "beds = []\n",
    "for li in non_subunit_containers:\n",
    "    try:\n",
    "        temp_bed = int(li.find(attrs={\"data-testid\":'beds'}).text.split()[0])\n",
    "    except:\n",
    "        temp_bed = None\n",
    "    beds.append(temp_bed)"
   ]
  },
  {
   "cell_type": "code",
   "execution_count": 14,
   "id": "bb85e537",
   "metadata": {},
   "outputs": [
    {
     "name": "stdout",
     "output_type": "stream",
     "text": [
      "Number of beds available: 2615\n"
     ]
    }
   ],
   "source": [
    "print('Number of beds available: {}'.format(len(beds)))"
   ]
  },
  {
   "cell_type": "code",
   "execution_count": 15,
   "id": "608f19c5",
   "metadata": {},
   "outputs": [],
   "source": [
    "baths = []\n",
    "for li in non_subunit_containers:\n",
    "    try:\n",
    "        temp_bath = int(li.find(attrs={\"data-testid\":'beds'}).text.split()[0])\n",
    "    except:\n",
    "        temp_bath = None\n",
    "    baths.append(temp_bath)"
   ]
  },
  {
   "cell_type": "code",
   "execution_count": 16,
   "id": "d694805e",
   "metadata": {},
   "outputs": [
    {
     "name": "stdout",
     "output_type": "stream",
     "text": [
      "Number of baths available: 2615\n"
     ]
    }
   ],
   "source": [
    "print('Number of baths available: {}'.format(len(baths)))"
   ]
  },
  {
   "cell_type": "code",
   "execution_count": 17,
   "id": "4cd09cac",
   "metadata": {},
   "outputs": [],
   "source": [
    "property_type = [li.find(attrs={\"data-testid\":'property-type'}).text for li in non_subunit_containers]"
   ]
  },
  {
   "cell_type": "code",
   "execution_count": 18,
   "id": "5b948d6f",
   "metadata": {},
   "outputs": [
    {
     "name": "stdout",
     "output_type": "stream",
     "text": [
      "Number of total property types available: 2615\n"
     ]
    }
   ],
   "source": [
    "print('Number of total property types available: {}'.format(len(property_type)))"
   ]
  },
  {
   "cell_type": "markdown",
   "id": "12c60ba2",
   "metadata": {},
   "source": [
    "* **Get the floor area of the property. Some properties have there floor area listed in acre, which need to beconvered to square metre.**"
   ]
  },
  {
   "cell_type": "code",
   "execution_count": 19,
   "id": "cb56e765",
   "metadata": {},
   "outputs": [
    {
     "data": {
      "text/plain": [
       "'80 m²'"
      ]
     },
     "execution_count": 19,
     "metadata": {},
     "output_type": "execute_result"
    }
   ],
   "source": [
    "non_subunit_containers[0].find(attrs={\"data-testid\":'floor-area'}).text"
   ]
  },
  {
   "cell_type": "code",
   "execution_count": 20,
   "id": "38cbd065",
   "metadata": {},
   "outputs": [
    {
     "name": "stdout",
     "output_type": "stream",
     "text": [
      "Floor area units:\n",
      "{'m²', 'ac'}\n"
     ]
    }
   ],
   "source": [
    "print(\"Floor area units:\")\n",
    "print(set([a.find(attrs={\"data-testid\":'floor-area'}).text.split()[1] for a in non_subunit_containers if a.find(attrs={\"data-testid\":'floor-area'})]))"
   ]
  },
  {
   "cell_type": "code",
   "execution_count": 21,
   "id": "39b1b568",
   "metadata": {},
   "outputs": [],
   "source": [
    "# function to convert text representation of the floor area into numarical value.\n",
    "# floor area listed in acre should also be convert to squre metre\n",
    "def floor_area_num(or_text):\n",
    "    splt_text = or_text.split()\n",
    "    if splt_text[1]=='ac':\n",
    "        return int(splt_text[0]/0.00024711)\n",
    "    else:\n",
    "        return int(splt_text[0])"
   ]
  },
  {
   "cell_type": "code",
   "execution_count": 22,
   "id": "93447e9f",
   "metadata": {},
   "outputs": [],
   "source": [
    "floor_area = []\n",
    "for li in non_subunit_containers:\n",
    "    try:\n",
    "        temp_area = floor_area_num(li.find(attrs={\"data-testid\":'floor-area'}).text)\n",
    "    except:\n",
    "        temp_area = None\n",
    "    floor_area.append(temp_area)"
   ]
  },
  {
   "cell_type": "code",
   "execution_count": 23,
   "id": "1bd9f4c7",
   "metadata": {},
   "outputs": [
    {
     "name": "stdout",
     "output_type": "stream",
     "text": [
      "Number of floor areas available: 2615\n"
     ]
    }
   ],
   "source": [
    "print('Number of floor areas available: {}'.format(len(floor_area)))"
   ]
  },
  {
   "cell_type": "markdown",
   "id": "2cc142c9",
   "metadata": {},
   "source": [
    "* **Get the name of the agency that post the ad**"
   ]
  },
  {
   "cell_type": "code",
   "execution_count": 24,
   "id": "f3efaf11",
   "metadata": {},
   "outputs": [],
   "source": [
    "agents = []\n",
    "for li in non_subunit_containers:\n",
    "    try:\n",
    "        temp_agent = li.find(attrs={\"data-testid\":'agent-name'}).text\n",
    "    except:\n",
    "        temp_agent = None\n",
    "    agents.append(temp_agent)"
   ]
  },
  {
   "cell_type": "code",
   "execution_count": 26,
   "id": "9dd25c8c",
   "metadata": {},
   "outputs": [
    {
     "data": {
      "text/plain": [
       "2615"
      ]
     },
     "execution_count": 26,
     "metadata": {},
     "output_type": "execute_result"
    }
   ],
   "source": [
    "len(agents)"
   ]
  },
  {
   "cell_type": "markdown",
   "id": "0ef26211",
   "metadata": {},
   "source": [
    "* **Convert everything to Pandas dataframe for easy manipulation**"
   ]
  },
  {
   "cell_type": "code",
   "execution_count": 81,
   "id": "88bda49f",
   "metadata": {},
   "outputs": [
    {
     "data": {
      "text/html": [
       "<div>\n",
       "<style scoped>\n",
       "    .dataframe tbody tr th:only-of-type {\n",
       "        vertical-align: middle;\n",
       "    }\n",
       "\n",
       "    .dataframe tbody tr th {\n",
       "        vertical-align: top;\n",
       "    }\n",
       "\n",
       "    .dataframe thead th {\n",
       "        text-align: right;\n",
       "    }\n",
       "</style>\n",
       "<table border=\"1\" class=\"dataframe\">\n",
       "  <thead>\n",
       "    <tr style=\"text-align: right;\">\n",
       "      <th></th>\n",
       "      <th>links</th>\n",
       "      <th>agents</th>\n",
       "      <th>physical_addresses</th>\n",
       "      <th>floor_area</th>\n",
       "      <th>property_type</th>\n",
       "      <th>beds</th>\n",
       "      <th>baths</th>\n",
       "      <th>price</th>\n",
       "    </tr>\n",
       "  </thead>\n",
       "  <tbody>\n",
       "    <tr>\n",
       "      <th>0</th>\n",
       "      <td>/for-sale/apartment-34-ballintyre-meadows-ball...</td>\n",
       "      <td>Fair Deal Property Ltd -Galway</td>\n",
       "      <td>34 Ballintyre Meadows, Ballinteer, Ballinteer,...</td>\n",
       "      <td>80</td>\n",
       "      <td>Apartment</td>\n",
       "      <td>2</td>\n",
       "      <td>2</td>\n",
       "      <td>385000</td>\n",
       "    </tr>\n",
       "    <tr>\n",
       "      <th>1</th>\n",
       "      <td>/for-sale/terraced-house-49-donore-avenue-sout...</td>\n",
       "      <td>Felicity Fox Auctioneers</td>\n",
       "      <td>49 Donore Avenue, South Circular Road, South C...</td>\n",
       "      <td>100</td>\n",
       "      <td>Terrace</td>\n",
       "      <td>3</td>\n",
       "      <td>3</td>\n",
       "      <td>800000</td>\n",
       "    </tr>\n",
       "    <tr>\n",
       "      <th>2</th>\n",
       "      <td>/for-sale/semi-detached-house-1-kill-avenue-du...</td>\n",
       "      <td>Lisney Sotheby's International Realty (Dalkey)</td>\n",
       "      <td>1 Kill Avenue Dun Laoghaire, Dun Laoghaire, Co...</td>\n",
       "      <td>None</td>\n",
       "      <td>Semi-D</td>\n",
       "      <td>3</td>\n",
       "      <td>3</td>\n",
       "      <td>775000</td>\n",
       "    </tr>\n",
       "    <tr>\n",
       "      <th>3</th>\n",
       "      <td>/for-sale/detached-house-thornberry-thornberry...</td>\n",
       "      <td>Ed Dempsey</td>\n",
       "      <td>Thornberry, Thornberry, 4 Granville Road, Blac...</td>\n",
       "      <td>307</td>\n",
       "      <td>Detached</td>\n",
       "      <td>4</td>\n",
       "      <td>4</td>\n",
       "      <td>1525000</td>\n",
       "    </tr>\n",
       "    <tr>\n",
       "      <th>4</th>\n",
       "      <td>/for-sale/semi-detached-house-2a-south-avenue-...</td>\n",
       "      <td>Janet Carroll Estate Agent</td>\n",
       "      <td>2A South Avenue, Blackrock, Co. Dublin, A94RH21</td>\n",
       "      <td>124</td>\n",
       "      <td>Semi-D</td>\n",
       "      <td>3</td>\n",
       "      <td>3</td>\n",
       "      <td>1075000</td>\n",
       "    </tr>\n",
       "    <tr>\n",
       "      <th>...</th>\n",
       "      <td>...</td>\n",
       "      <td>...</td>\n",
       "      <td>...</td>\n",
       "      <td>...</td>\n",
       "      <td>...</td>\n",
       "      <td>...</td>\n",
       "      <td>...</td>\n",
       "      <td>...</td>\n",
       "    </tr>\n",
       "    <tr>\n",
       "      <th>2610</th>\n",
       "      <td>/for-sale/apartment-hampton-wood-road-finglas-...</td>\n",
       "      <td>Horan Estates and Lettings</td>\n",
       "      <td>Hampton Wood Road, Finglas, Dublin 11, D11X073</td>\n",
       "      <td>None</td>\n",
       "      <td>Apartment</td>\n",
       "      <td>1</td>\n",
       "      <td>1</td>\n",
       "      <td>190000</td>\n",
       "    </tr>\n",
       "    <tr>\n",
       "      <th>2611</th>\n",
       "      <td>/for-sale/detached-house-28a-virginia-park-fin...</td>\n",
       "      <td>Leonard Wilson Keenan Estates &amp; Letting Agents</td>\n",
       "      <td>28A Virginia Park, Finglas South, Finglas, Dub...</td>\n",
       "      <td>None</td>\n",
       "      <td>Detached</td>\n",
       "      <td>3</td>\n",
       "      <td>3</td>\n",
       "      <td>179950</td>\n",
       "    </tr>\n",
       "    <tr>\n",
       "      <th>2612</th>\n",
       "      <td>/for-sale/terraced-house-156-parnell-street-du...</td>\n",
       "      <td>DNG Phibsboro</td>\n",
       "      <td>156 Parnell Street, Dublin 1, D01FW92</td>\n",
       "      <td>None</td>\n",
       "      <td>Terrace</td>\n",
       "      <td>12</td>\n",
       "      <td>12</td>\n",
       "      <td>1500000</td>\n",
       "    </tr>\n",
       "    <tr>\n",
       "      <th>2613</th>\n",
       "      <td>/for-sale/semi-detached-house-13-curragh-hall-...</td>\n",
       "      <td>Horan Estates and Lettings</td>\n",
       "      <td>13 Curragh Hall Green, Tyrrelstown, Dublin 15</td>\n",
       "      <td>None</td>\n",
       "      <td>Semi-D</td>\n",
       "      <td>3</td>\n",
       "      <td>3</td>\n",
       "      <td>295000</td>\n",
       "    </tr>\n",
       "    <tr>\n",
       "      <th>2614</th>\n",
       "      <td>/for-sale/terraced-house-104-fortlawn-avenue-b...</td>\n",
       "      <td>Horan Estates and Lettings</td>\n",
       "      <td>104 Fortlawn Avenue, Blanchardstown, Dublin 15</td>\n",
       "      <td>None</td>\n",
       "      <td>Terrace</td>\n",
       "      <td>3</td>\n",
       "      <td>3</td>\n",
       "      <td>270000</td>\n",
       "    </tr>\n",
       "  </tbody>\n",
       "</table>\n",
       "<p>2615 rows × 8 columns</p>\n",
       "</div>"
      ],
      "text/plain": [
       "                                                  links  \\\n",
       "0     /for-sale/apartment-34-ballintyre-meadows-ball...   \n",
       "1     /for-sale/terraced-house-49-donore-avenue-sout...   \n",
       "2     /for-sale/semi-detached-house-1-kill-avenue-du...   \n",
       "3     /for-sale/detached-house-thornberry-thornberry...   \n",
       "4     /for-sale/semi-detached-house-2a-south-avenue-...   \n",
       "...                                                 ...   \n",
       "2610  /for-sale/apartment-hampton-wood-road-finglas-...   \n",
       "2611  /for-sale/detached-house-28a-virginia-park-fin...   \n",
       "2612  /for-sale/terraced-house-156-parnell-street-du...   \n",
       "2613  /for-sale/semi-detached-house-13-curragh-hall-...   \n",
       "2614  /for-sale/terraced-house-104-fortlawn-avenue-b...   \n",
       "\n",
       "                                              agents  \\\n",
       "0                     Fair Deal Property Ltd -Galway   \n",
       "1                           Felicity Fox Auctioneers   \n",
       "2     Lisney Sotheby's International Realty (Dalkey)   \n",
       "3                                         Ed Dempsey   \n",
       "4                         Janet Carroll Estate Agent   \n",
       "...                                              ...   \n",
       "2610                      Horan Estates and Lettings   \n",
       "2611  Leonard Wilson Keenan Estates & Letting Agents   \n",
       "2612                                   DNG Phibsboro   \n",
       "2613                      Horan Estates and Lettings   \n",
       "2614                      Horan Estates and Lettings   \n",
       "\n",
       "                                     physical_addresses floor_area  \\\n",
       "0     34 Ballintyre Meadows, Ballinteer, Ballinteer,...         80   \n",
       "1     49 Donore Avenue, South Circular Road, South C...        100   \n",
       "2     1 Kill Avenue Dun Laoghaire, Dun Laoghaire, Co...       None   \n",
       "3     Thornberry, Thornberry, 4 Granville Road, Blac...        307   \n",
       "4       2A South Avenue, Blackrock, Co. Dublin, A94RH21        124   \n",
       "...                                                 ...        ...   \n",
       "2610     Hampton Wood Road, Finglas, Dublin 11, D11X073       None   \n",
       "2611  28A Virginia Park, Finglas South, Finglas, Dub...       None   \n",
       "2612              156 Parnell Street, Dublin 1, D01FW92       None   \n",
       "2613      13 Curragh Hall Green, Tyrrelstown, Dublin 15       None   \n",
       "2614     104 Fortlawn Avenue, Blanchardstown, Dublin 15       None   \n",
       "\n",
       "     property_type beds baths    price  \n",
       "0        Apartment    2     2   385000  \n",
       "1          Terrace    3     3   800000  \n",
       "2           Semi-D    3     3   775000  \n",
       "3         Detached    4     4  1525000  \n",
       "4           Semi-D    3     3  1075000  \n",
       "...            ...  ...   ...      ...  \n",
       "2610     Apartment    1     1   190000  \n",
       "2611      Detached    3     3   179950  \n",
       "2612       Terrace   12    12  1500000  \n",
       "2613        Semi-D    3     3   295000  \n",
       "2614       Terrace    3     3   270000  \n",
       "\n",
       "[2615 rows x 8 columns]"
      ]
     },
     "execution_count": 81,
     "metadata": {},
     "output_type": "execute_result"
    }
   ],
   "source": [
    "import pandas as pd\n",
    "data_list = [links,agents, physical_addresses,floor_area,property_type,beds,baths,price]\n",
    "col_names = ['links','agents', 'physical_addresses','floor_area','property_type','beds','baths','price']\n",
    "df = pd.DataFrame(data_list).T\n",
    "df.columns = col_names\n",
    "df"
   ]
  },
  {
   "cell_type": "markdown",
   "id": "dfa65a1b",
   "metadata": {},
   "source": [
    "* **Export to csv file for storage**"
   ]
  },
  {
   "cell_type": "code",
   "execution_count": 88,
   "id": "a4854844",
   "metadata": {},
   "outputs": [],
   "source": [
    "import datetime\n",
    "df.to_csv('daft_{}.csv'.format(str(datetime.date.today())),index=False,sep=';', header=True, encoding='utf-8')"
   ]
  }
 ],
 "metadata": {
  "kernelspec": {
   "display_name": "Python 3 (ipykernel)",
   "language": "python",
   "name": "python3"
  },
  "language_info": {
   "codemirror_mode": {
    "name": "ipython",
    "version": 3
   },
   "file_extension": ".py",
   "mimetype": "text/x-python",
   "name": "python",
   "nbconvert_exporter": "python",
   "pygments_lexer": "ipython3",
   "version": "3.10.12"
  }
 },
 "nbformat": 4,
 "nbformat_minor": 5
}
